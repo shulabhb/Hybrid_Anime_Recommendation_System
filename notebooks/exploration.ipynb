{
 "cells": [
  {
   "cell_type": "code",
   "execution_count": null,
   "metadata": {},
   "outputs": [],
   "source": [
    "import pandas as pd\n",
    "import seaborn as sns\n",
    "import matplotlib.pyplot as plt\n",
    "\n",
    "# Load data\n",
    "anime_df = pd.read_csv('data/anime.csv')\n",
    "rating_df = pd.read_csv('data/rating.csv')\n",
    "\n",
    "# Basic info\n",
    "print(anime_df.info())\n",
    "print(rating_df.info())\n",
    "\n",
    "# Distribution of anime ratings\n",
    "plt.figure(figsize=(10, 6))\n",
    "sns.histplot(anime_df['rating'].dropna(), bins=20, kde=True)\n",
    "plt.title(\"Distribution of Anime Ratings\")\n",
    "plt.xlabel(\"Rating\")\n",
    "plt.ylabel(\"Frequency\")\n",
    "plt.savefig('outputs/plots/anime_rating_distribution.png')\n",
    "plt.show()\n",
    "\n",
    "# Scatter plot: number of members vs rating\n",
    "plt.figure(figsize=(10, 6))\n",
    "sns.scatterplot(data=anime_df, x='members', y='rating')\n",
    "plt.title(\"Anime Rating vs. Number of Members\")\n",
    "plt.xlabel(\"Number of Members\")\n",
    "plt.ylabel(\"Rating\")\n",
    "plt.savefig('outputs/plots/rating_vs_members.png')\n",
    "plt.show()\n"
   ]
  }
 ],
 "metadata": {
  "language_info": {
   "name": "python"
  }
 },
 "nbformat": 4,
 "nbformat_minor": 2
}
